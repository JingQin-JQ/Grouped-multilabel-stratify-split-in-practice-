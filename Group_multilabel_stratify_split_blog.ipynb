{
 "cells": [
  {
   "cell_type": "code",
   "execution_count": 5,
   "metadata": {},
   "outputs": [
    {
     "name": "stdout",
     "output_type": "stream",
     "text": [
      "Collecting pip\n",
      "\u001b[?25l  Downloading https://files.pythonhosted.org/packages/a4/6d/6463d49a933f547439d6b5b98b46af8742cc03ae83543e4d7688c2420f8b/pip-21.3.1-py3-none-any.whl (1.7MB)\n",
      "\u001b[K     |████████████████████████████████| 1.7MB 3.2MB/s eta 0:00:01\n",
      "\u001b[?25hInstalling collected packages: pip\n",
      "  Found existing installation: pip 19.1.1\n",
      "    Uninstalling pip-19.1.1:\n",
      "      Successfully uninstalled pip-19.1.1\n",
      "Successfully installed pip-21.3.1\n"
     ]
    }
   ],
   "source": [
    "!pip install --upgrade pip\n"
   ]
  },
  {
   "cell_type": "code",
   "execution_count": 6,
   "metadata": {},
   "outputs": [
    {
     "name": "stdout",
     "output_type": "stream",
     "text": [
      "Collecting scikit-multilearn\n",
      "  Downloading scikit_multilearn-0.2.0-py3-none-any.whl (89 kB)\n",
      "     |████████████████████████████████| 89 kB 2.7 MB/s             \n",
      "\u001b[?25hInstalling collected packages: scikit-multilearn\n",
      "Successfully installed scikit-multilearn-0.2.0\n"
     ]
    }
   ],
   "source": [
    "!pip install scikit-multilearn\n"
   ]
  },
  {
   "cell_type": "code",
   "execution_count": 7,
   "metadata": {},
   "outputs": [],
   "source": [
    "import os\n",
    "import pandas as pd\n",
    "import numpy as np\n",
    "\n",
    "import skmultilearn.model_selection as ms\n",
    "\n",
    "\n",
    "import itertools\n",
    "import datetime\n"
   ]
  },
  {
   "cell_type": "code",
   "execution_count": 8,
   "metadata": {
    "collapsed": true
   },
   "outputs": [],
   "source": [
    "def get_linked_id( df, cust_rel, N_iter):\n",
    "        df = df[['id']].drop_duplicates()\n",
    "        df['linked_id'] = df['id'].copy()\n",
    "\n",
    "        print(f'Initial number of unique Ids: {df.shape[0]}')\n",
    "        for i in range(N_iter):\n",
    "            df = expand_single_step(df, cust_rel)\n",
    "            df_linked = df.sort_values(['id', 'linked_id']).drop_duplicates(subset='id', keep='first')\n",
    "            n_unique_groups = df_linked['linked_id'].unique().shape[0]\n",
    "            print(f'Number of unique Id groups after iteration {i + 1}: {n_unique_groups}')\n",
    "\n",
    "        ind = df_linked[\"linked_id\"].isna()\n",
    "        df_linked.loc[ind, 'linked_id'] = df_linked.loc[ind, 'id']\n",
    "        return df_linked\n",
    "\n",
    "def expand_single_step(df, cust_rel):\n",
    "        df = df.merge(cust_rel, left_on='linked_id', right_on='owner_cust_id', how='left')[\n",
    "            ['id', 'linked_id', 'account_cust_id']]\n",
    "       # link owner_id back to account_id\n",
    "        df = df.merge(cust_rel, on='account_cust_id', how='left')[['id', 'owner_cust_id']]\n",
    "        df = df.rename(columns={'owner_cust_id': 'linked_id'})\n",
    "        return df.drop_duplicates()"
   ]
  },
  {
   "cell_type": "code",
   "execution_count": 9,
   "metadata": {
    "collapsed": true
   },
   "outputs": [],
   "source": [
    "def split_train_test(ft_df: pd.DataFrame, test_size, seed, stratify_on):\n",
    "  \n",
    "  if seed is not None: np.random.seed(seed)\n",
    "  df = ft_df.copy()\n",
    "  stratify_lst = stratify_on.copy()\n",
    "\n",
    "  col_object = df[stratify_lst].select_dtypes(include=[object]).columns\n",
    "  tmp_cols = []\n",
    "  for col in col_object:\n",
    "    df[f\"{col}Tmp\"] = df[col].astype('category').cat.codes\n",
    "    stratify_lst.remove(col)\n",
    "    stratify_lst.append(f\"{col}Tmp\")\n",
    "    tmp_cols.append(f\"{col}Tmp\")\n",
    "\n",
    "  # Stratefied split\n",
    "  x_train, _, x_test, _ = ms.iterative_train_test_split(df.values, df[stratify_lst].values, test_size = test_size)\n",
    "\n",
    "  df_train = pd.DataFrame(x_train, columns = df.columns).drop(tmp_cols, axis = 1)\n",
    "  df_test = pd.DataFrame(x_test, columns = df.columns).drop(tmp_cols, axis = 1)\n",
    "\n",
    "  return df_train, df_test"
   ]
  },
  {
   "cell_type": "code",
   "execution_count": 10,
   "metadata": {
    "collapsed": true
   },
   "outputs": [],
   "source": [
    "cust_rel = [\n",
    "            [\"1\", \"1\", \"IND\"],[\"2\", \"2\", \"IND\"],[\"3\", \"3\", \"IND\"], [\"4\", \"4\", \"IND\"], [\"5\", \"5\", \"IND\"],\n",
    "            [\"6\", \"6\", \"IND\"], [\"7\", \"7\", \"IND\"], [\"8\", \"8\", \"IND\"],  [\"9\", \"9\", \"IND\"], [\"10\", \"10\", \"IND\"],\n",
    "            [\"2\", \"3\", \"JOINT\"], [\"2\", \"4\", \"JOINT\"],[\"3\", \"4\", \"JOINT\"], [\"4\", \"5\", \"JOINT\"],\n",
    "            [\"6\", \"7\", \"JOINT\"],\n",
    "            [\"8\", \"9\", \"JOINT\"], [\"8\", \"10\", \"JOINT\"], [\"9\", \"10\", \"JOINT\"],\n",
    "        ]\n",
    "cust_rel_columns = [\"owner_cust_id\", \"account_cust_id\", \"relationship\"]\n",
    "\n",
    "df = [\n",
    "            [\"1\", \"F\", \"1\"], [\"2\", \"F\", \"0\"],[\"3\", \"M\", \"1\"], [\"4\", \"M\", \"0\"], [\"5\", \"M\", \"1\"],\n",
    "            [\"6\", \"M\", \"0\"], [\"7\", \"M\", \"0\"], [\"8\", \"F\", \"1\"], [\"9\", \"F\", \"1\"], [\"10\", \"M\", \"1\"],\n",
    "        ]\n",
    "df_struct_type = [ \"id\",\"Gender\",\"Adult\"]\n",
    "\n",
    "\n",
    "cust_relDF =pd.DataFrame(cust_rel, columns=cust_rel_columns)\n",
    "\n",
    "df =pd.DataFrame(df, columns=df_struct_type)"
   ]
  },
  {
   "cell_type": "code",
   "execution_count": 11,
   "metadata": {},
   "outputs": [
    {
     "name": "stdout",
     "output_type": "stream",
     "text": [
      "Initial number of unique Ids: 10\n",
      "Number of unique Id groups after iteration 1: 5\n",
      "Number of unique Id groups after iteration 2: 4\n",
      "Number of unique Id groups after iteration 3: 4\n"
     ]
    }
   ],
   "source": [
    "df_linkedid = get_linked_id(df, cust_relDF,3)\n",
    "\n",
    "df_linkedid_nodu = df_linkedid.drop_duplicates('linked_id', keep=\"last\")\n",
    "df_linkedid_du = df_linkedid.drop(df_linkedid_nodu.index)"
   ]
  },
  {
   "cell_type": "code",
   "execution_count": 14,
   "metadata": {},
   "outputs": [],
   "source": [
    "df_group = df_linkedid_nodu.merge(df, on='id', how='left')\n",
    "train, test = split_train_test(df_group, test_size=0.51, seed=1, stratify_on=[\"Gender\",\"Adult\"])"
   ]
  },
  {
   "cell_type": "code",
   "execution_count": 15,
   "metadata": {
    "collapsed": true
   },
   "outputs": [],
   "source": [
    "test_du = df_linkedid_du[df_linkedid_du['linked_id'].isin(test['linked_id'])].merge(df, on='id', how='left')\n",
    "test_plus = pd.concat([test, test_du])\n",
    "train_du = df_linkedid_du[df_linkedid_du['linked_id'].isin(train['linked_id'])].merge(df, on='id', how='left')\n",
    "train_plus = pd.concat([train, train_du])\n"
   ]
  },
  {
   "cell_type": "code",
   "execution_count": 16,
   "metadata": {},
   "outputs": [
    {
     "data": {
      "text/html": [
       "<div>\n",
       "<style scoped>\n",
       "    .dataframe tbody tr th:only-of-type {\n",
       "        vertical-align: middle;\n",
       "    }\n",
       "\n",
       "    .dataframe tbody tr th {\n",
       "        vertical-align: top;\n",
       "    }\n",
       "\n",
       "    .dataframe thead th {\n",
       "        text-align: right;\n",
       "    }\n",
       "</style>\n",
       "<table border=\"1\" class=\"dataframe\">\n",
       "  <thead>\n",
       "    <tr style=\"text-align: right;\">\n",
       "      <th>Gender</th>\n",
       "      <th>F</th>\n",
       "      <th>M</th>\n",
       "    </tr>\n",
       "    <tr>\n",
       "      <th>Split</th>\n",
       "      <th></th>\n",
       "      <th></th>\n",
       "    </tr>\n",
       "  </thead>\n",
       "  <tbody>\n",
       "    <tr>\n",
       "      <th>test</th>\n",
       "      <td>2</td>\n",
       "      <td>3</td>\n",
       "    </tr>\n",
       "    <tr>\n",
       "      <th>train</th>\n",
       "      <td>2</td>\n",
       "      <td>3</td>\n",
       "    </tr>\n",
       "  </tbody>\n",
       "</table>\n",
       "</div>"
      ],
      "text/plain": [
       "Gender  F  M\n",
       "Split       \n",
       "test    2  3\n",
       "train   2  3"
      ]
     },
     "execution_count": 16,
     "metadata": {},
     "output_type": "execute_result"
    }
   ],
   "source": [
    "df_train = train_plus.assign(Split = \"train\")\n",
    "df_test = test_plus.assign(Split = \"test\")\n",
    "combine = pd.concat([df_train, df_test])\n",
    "pd.crosstab(combine['Split'], combine['Gender'])"
   ]
  },
  {
   "cell_type": "code",
   "execution_count": 17,
   "metadata": {},
   "outputs": [
    {
     "data": {
      "text/html": [
       "<div>\n",
       "<style scoped>\n",
       "    .dataframe tbody tr th:only-of-type {\n",
       "        vertical-align: middle;\n",
       "    }\n",
       "\n",
       "    .dataframe tbody tr th {\n",
       "        vertical-align: top;\n",
       "    }\n",
       "\n",
       "    .dataframe thead th {\n",
       "        text-align: right;\n",
       "    }\n",
       "</style>\n",
       "<table border=\"1\" class=\"dataframe\">\n",
       "  <thead>\n",
       "    <tr style=\"text-align: right;\">\n",
       "      <th>Adult</th>\n",
       "      <th>0</th>\n",
       "      <th>1</th>\n",
       "    </tr>\n",
       "    <tr>\n",
       "      <th>Split</th>\n",
       "      <th></th>\n",
       "      <th></th>\n",
       "    </tr>\n",
       "  </thead>\n",
       "  <tbody>\n",
       "    <tr>\n",
       "      <th>test</th>\n",
       "      <td>2</td>\n",
       "      <td>3</td>\n",
       "    </tr>\n",
       "    <tr>\n",
       "      <th>train</th>\n",
       "      <td>2</td>\n",
       "      <td>3</td>\n",
       "    </tr>\n",
       "  </tbody>\n",
       "</table>\n",
       "</div>"
      ],
      "text/plain": [
       "Adult  0  1\n",
       "Split      \n",
       "test   2  3\n",
       "train  2  3"
      ]
     },
     "execution_count": 17,
     "metadata": {},
     "output_type": "execute_result"
    }
   ],
   "source": [
    "pd.crosstab(combine['Split'], combine['Adult'])"
   ]
  },
  {
   "cell_type": "code",
   "execution_count": null,
   "metadata": {
    "collapsed": true
   },
   "outputs": [],
   "source": []
  }
 ],
 "metadata": {
  "kernelspec": {
   "display_name": "Python 3",
   "language": "python",
   "name": "python3"
  },
  "language_info": {
   "codemirror_mode": {
    "name": "ipython",
    "version": 3
   },
   "file_extension": ".py",
   "mimetype": "text/x-python",
   "name": "python",
   "nbconvert_exporter": "python",
   "pygments_lexer": "ipython3",
   "version": "3.6.1"
  }
 },
 "nbformat": 4,
 "nbformat_minor": 2
}
